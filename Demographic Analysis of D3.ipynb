{
 "cells": [
  {
   "cell_type": "code",
   "execution_count": null,
   "metadata": {},
   "outputs": [],
   "source": [
    "#initialize packages\n",
    "#import packages\n",
    "import pandas as pd\n",
    "import numpy as np\n",
    "import geopandas as gpd\n",
    "import matplotlib\n",
    "from matplotlib import pyplot as plt\n",
    "import mapclassify\n",
    "# To display plots, maps, charts etc in the notebook\n",
    "%matplotlib inline\n",
    "\n",
    "# For area weighted interpolation\n",
    "from tobler import area_weighted\n",
    "from tobler.area_weighted import area_interpolate, area_tables\n",
    "\n",
    "#for bringing in census data\n",
    "import requests"
   ]
  },
  {
   "cell_type": "code",
   "execution_count": null,
   "metadata": {},
   "outputs": [],
   "source": [
    "#bringing in the variables that we care about\n",
    "# race, household income, ternure, population, where they were a year ago\n",
    "# need to show how things have changed 1990, 2000, 2010, 2015, 2018\n",
    "# who has arriving and from where?"
   ]
  },
  {
   "cell_type": "code",
   "execution_count": null,
   "metadata": {},
   "outputs": [],
   "source": [
    "# h/t to https://www.youtube.com/watch?v=l47HptzM7ao for explanation on how to use\n",
    "#building 1990 dataset\n",
    "HOST = 'https://api.census.gov/data'\n",
    "year = 1990\n",
    "dataset = 'sf1'\n",
    "base_url = '/'.join([HOST, year, dataset])\n",
    "predicates = {}\n",
    "get_vars = H0010001, H0030001, H0030002, P0030001"
   ]
  },
  {
   "cell_type": "code",
   "execution_count": null,
   "metadata": {},
   "outputs": [],
   "source": [
    "# renaming variables\n",
    "\n",
    "renamed = {'H0010001':'housing_units',\n",
    "          'H0030001': 'housing_units_oo',\n",
    "          'H0030002':'housing_units_ro',\n",
    "          'P0010001': 'pop_total',\n",
    "           'P0010001': 'hh_total',\n",
    "          }"
   ]
  },
  {
   "cell_type": "code",
   "execution_count": null,
   "metadata": {},
   "outputs": [],
   "source": [
    "#bring in JSON for tracts in California\n",
    "C:\\Users\\amarq\\Python_Projects\\out_data\\calitracts.json"
   ]
  },
  {
   "cell_type": "code",
   "execution_count": null,
   "metadata": {},
   "outputs": [],
   "source": []
  }
 ],
 "metadata": {
  "kernelspec": {
   "display_name": "Python 3",
   "language": "python",
   "name": "python3"
  },
  "language_info": {
   "codemirror_mode": {
    "name": "ipython",
    "version": 3
   },
   "file_extension": ".py",
   "mimetype": "text/x-python",
   "name": "python",
   "nbconvert_exporter": "python",
   "pygments_lexer": "ipython3",
   "version": "3.7.3"
  }
 },
 "nbformat": 4,
 "nbformat_minor": 4
}
